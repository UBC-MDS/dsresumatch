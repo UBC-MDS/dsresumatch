{
 "cells": [
  {
   "cell_type": "markdown",
   "metadata": {},
   "source": [
    "# dsresumatch Tutorial\n",
    "\n",
    "Welcome to the ResuMatch package documentation! This package is designed to analyze resumes and job descriptions by extracting key sections (Skills, Education, Work Experience, and Contact) and scoring them based on relevant keywords. Here, we’ll illustrate the usage of these functions with a real-life example, featuring Daniel, a junior data scientist on the hunt for his next exciting role."
   ]
  },
  {
   "cell_type": "code",
   "execution_count": 5,
   "metadata": {},
   "outputs": [
    {
     "name": "stdout",
     "output_type": "stream",
     "text": [
      "0.1.0\n"
     ]
    }
   ],
   "source": [
    "import dsresumatch\n",
    "\n",
    "print(dsresumatch.__version__)"
   ]
  },
  {
   "cell_type": "markdown",
   "metadata": {},
   "source": [
    "## Daniel’s Journey\n",
    "\n",
    "Daniel has spent countless hours refining his resume, but still struggles to get callbacks from potential employers. After sending off 250 applications to several data science positions, and almost losing hope, he discovers dsresumatch. Intrigued by its ability to pinpoint missing information and relevant keywords, Daniel uses it to transform his resume into a tailored, high-impact profile for each job description he targets."
   ]
  },
  {
   "cell_type": "markdown",
   "metadata": {},
   "source": [
    "### Reading the Pdf\n",
    "\n",
    "First things first, Daniel reads the PDF version of his resume using the read_pdf function from our package. This function automatically extracts all readable text and returns it as a string, making it easy to analyze, filter, or score."
   ]
  },
  {
   "cell_type": "code",
   "execution_count": 3,
   "metadata": {},
   "outputs": [
    {
     "name": "stderr",
     "output_type": "stream",
     "text": [
      "[nltk_data] Downloading package stopwords to\n",
      "[nltk_data]     /Users/jiaquanlim/nltk_data...\n",
      "[nltk_data]   Package stopwords is already up-to-date!\n"
     ]
    }
   ],
   "source": [
    "from dsresumatch.pdf_cv_processing import read_pdf\n",
    "\n",
    "resume_text = read_pdf(\"bad_cv.pdf\")"
   ]
  },
  {
   "cell_type": "markdown",
   "metadata": {},
   "source": [
    "## Checking for Resume Headers\n",
    "From the previous function, we extracted the PDF words into a string so that it is ready to be passed into `missing_section()` function to see if there are any missing reasume headers. \n",
    "\n",
    "Let's jump into!"
   ]
  },
  {
   "cell_type": "code",
   "execution_count": 4,
   "metadata": {},
   "outputs": [
    {
     "data": {
      "text/plain": [
       "'Daniel H. Personal Statement I’m a data scientist, kind of. I like data. I did some Python stuff once. Not sure what else to say. Education Bachelor’s degree in Math.  Internship I worked as a data science intern for some months. Did some machine learning.   '"
      ]
     },
     "execution_count": 4,
     "metadata": {},
     "output_type": "execute_result"
    }
   ],
   "source": [
    "resume_text"
   ]
  },
  {
   "cell_type": "markdown",
   "metadata": {},
   "source": [
    "As we can we see, the resume PDF has been converted to just string of words and stored in `resume_text`."
   ]
  },
  {
   "cell_type": "markdown",
   "metadata": {},
   "source": [
    "## Now, Check Sections!\n",
    "\n",
    "Let's take a look at which section headers are missing from Daniel's resume by passing the text through `missing_section()` function."
   ]
  },
  {
   "cell_type": "code",
   "execution_count": 7,
   "metadata": {},
   "outputs": [
    {
     "data": {
      "text/plain": [
       "['Contact', 'Skills', 'Work Experience']"
      ]
     },
     "execution_count": 7,
     "metadata": {},
     "output_type": "execute_result"
    }
   ],
   "source": [
    "from dsresumatch.sections_check import missing_section\n",
    "\n",
    "# This is a simple use case:\n",
    "section_check = missing_section(resume_text)\n",
    "\n",
    "# Print the missing sections identified using the function\n",
    "section_check"
   ]
  },
  {
   "cell_type": "markdown",
   "metadata": {},
   "source": [
    "From the `section_check` variable, Daniel identifies that his resume is missing \"Contact\", \"skills\" and \"Work Experience\" sections."
   ]
  },
  {
   "cell_type": "markdown",
   "metadata": {},
   "source": [
    "## Adding Sections\n",
    "\n",
    "Daniel saw an article that says \"Personal Statement\" and \"Volunteer\" are one of the key sections in a resume. Now he wants to include the two additional sections into the function to check if they are present."
   ]
  },
  {
   "cell_type": "code",
   "execution_count": 15,
   "metadata": {},
   "outputs": [
    {
     "data": {
      "text/plain": [
       "['Volunteer', 'Contact', 'Work Experience', 'Skills']"
      ]
     },
     "execution_count": 15,
     "metadata": {},
     "output_type": "execute_result"
    }
   ],
   "source": [
    "# Addtional sections check use case:\n",
    "add_section_check = missing_section(resume_text, add_benchmark_sections=[\"Personal Statement\", \"Volunteer\"])\n",
    "\n",
    "# Print the missing sections with the addtional sections included\n",
    "add_section_check"
   ]
  },
  {
   "cell_type": "markdown",
   "metadata": {},
   "source": [
    "After including the addtional sections using the `add_benchmark_sections` argument in the `missing_section()` function, it is found that \"Personal Statement\" is present in Daniel's resume but \"Volunteer\", \"Contact\", \"Work Experience\" and \"Skills\" are missing. "
   ]
  },
  {
   "cell_type": "markdown",
   "metadata": {},
   "source": []
  }
 ],
 "metadata": {
  "kernelspec": {
   "display_name": "dsresumatch",
   "language": "python",
   "name": "python3"
  },
  "language_info": {
   "codemirror_mode": {
    "name": "ipython",
    "version": 3
   },
   "file_extension": ".py",
   "mimetype": "text/x-python",
   "name": "python",
   "nbconvert_exporter": "python",
   "pygments_lexer": "ipython3",
   "version": "3.11.11"
  }
 },
 "nbformat": 4,
 "nbformat_minor": 4
}
